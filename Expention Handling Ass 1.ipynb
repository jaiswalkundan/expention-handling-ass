{
 "cells": [
  {
   "cell_type": "markdown",
   "id": "ec77cf66-4561-4e9d-8e06-31947777178f",
   "metadata": {},
   "source": [
    "Q1.what is an Exception in python? Write the difference between Exceptions and synatax errors."
   ]
  },
  {
   "cell_type": "markdown",
   "id": "e84d93c1-6acb-45a6-8567-4c2f59287fe7",
   "metadata": {},
   "source": [
    "in python an exception is an event that occurs during the execution of a program disrupting the normal flow of the \n",
    "program disrupting the normal flow of the program instruction.\n",
    "Synatx errors on the other hand are error that occur during the parsing of code.they are typically due to mistacke in the code structure like misspelled keywords or missing colons. unlike exception syntax error"
   ]
  },
  {
   "cell_type": "markdown",
   "id": "034ed423-24ec-4d11-bd1c-bbe10bf11d6d",
   "metadata": {},
   "source": [
    "Q2.what happens when an exception is not handled? Explain with an example?"
   ]
  },
  {
   "cell_type": "code",
   "execution_count": 6,
   "id": "0d557223-c7bd-45a6-852f-3b19574f2056",
   "metadata": {},
   "outputs": [
    {
     "name": "stdout",
     "output_type": "stream",
     "text": [
      "Result: 5.0\n",
      "Error: division by zero\n"
     ]
    }
   ],
   "source": [
    "def divide_numbers(num1,num2):\n",
    "    try:\n",
    "        result = num1/num2\n",
    "        print(\"Result:\",result)\n",
    "    except ZeroDivisionError as e:\n",
    "        print(\"Error:\",e)\n",
    "divide_numbers(10,2)\n",
    "divide_numbers(5,0)\n",
    "        "
   ]
  },
  {
   "cell_type": "code",
   "execution_count": null,
   "id": "e10fc079-b48d-4086-9618-582c40b49c39",
   "metadata": {},
   "outputs": [],
   "source": [
    "Q3.which python statements are used to catch and handle exceptions? Explain with an example"
   ]
  },
  {
   "cell_type": "code",
   "execution_count": 7,
   "id": "e8bca21a-2bfe-4769-8d17-ecf555406489",
   "metadata": {},
   "outputs": [
    {
     "name": "stdin",
     "output_type": "stream",
     "text": [
      "Enter the numerator:  56\n",
      "Enter the denominator:  67\n"
     ]
    },
    {
     "name": "stdout",
     "output_type": "stream",
     "text": [
      "The result of 56 / 67 is:0.835820895522388\n",
      "Execution completed.\n"
     ]
    }
   ],
   "source": [
    "try:\n",
    "    numerator = int(input(\"Enter the numerator: \"))\n",
    "    denominator= int(input(\"Enter the denominator: \"))\n",
    "    result= numerator / denominator\n",
    "except ZeroDivisionError:\n",
    "    print(\"Error: Cannot divide by zero.\")\n",
    "    \n",
    "except ValueError:\n",
    "    Print(\"Error: Cannot divide by zero.\")\n",
    "except ValueError:\n",
    "    print(\"Error: please enter valid intergers.\")\n",
    "else:\n",
    "    print(f\"The result of {numerator} / {denominator} is:{result}\")\n",
    "    \n",
    "finally:\n",
    "    print(\"Execution completed.\")"
   ]
  },
  {
   "cell_type": "code",
   "execution_count": null,
   "id": "19fac78c-a8f6-44ef-889b-69d2b76e475f",
   "metadata": {},
   "outputs": [],
   "source": [
    "Explain with an example\n",
    "a.try and else\n",
    "b. finally\n",
    "c. raise"
   ]
  },
  {
   "cell_type": "code",
   "execution_count": 8,
   "id": "59a63309-d4f2-4dcd-bdde-e7456e727822",
   "metadata": {},
   "outputs": [
    {
     "name": "stdout",
     "output_type": "stream",
     "text": [
      "Division sucessful.Result: 5.0\n"
     ]
    }
   ],
   "source": [
    "try:\n",
    "    result = 10/2\n",
    "except ZeroDivisionError:\n",
    "    print(\"Cannot divide by zero!\")\n",
    "else:\n",
    "    print(\"Division sucessful.Result:\",result)"
   ]
  },
  {
   "cell_type": "code",
   "execution_count": 10,
   "id": "a1eb462f-ab4f-4639-9afa-f0e636aab93a",
   "metadata": {},
   "outputs": [
    {
     "ename": "NameError",
     "evalue": "name 'file' is not defined",
     "output_type": "error",
     "traceback": [
      "\u001b[0;31m---------------------------------------------------------------------------\u001b[0m",
      "\u001b[0;31mFileNotFoundError\u001b[0m                         Traceback (most recent call last)",
      "Cell \u001b[0;32mIn[10], line 2\u001b[0m\n\u001b[1;32m      1\u001b[0m \u001b[38;5;28;01mtry\u001b[39;00m:\n\u001b[0;32m----> 2\u001b[0m     file \u001b[38;5;241m=\u001b[39m \u001b[38;5;28;43mopen\u001b[39;49m\u001b[43m(\u001b[49m\u001b[38;5;124;43m\"\u001b[39;49m\u001b[38;5;124;43mexample.txt\u001b[39;49m\u001b[38;5;124;43m\"\u001b[39;49m\u001b[43m,\u001b[49m\u001b[38;5;124;43m\"\u001b[39;49m\u001b[38;5;124;43mr\u001b[39;49m\u001b[38;5;124;43m\"\u001b[39;49m\u001b[43m)\u001b[49m\n\u001b[1;32m      3\u001b[0m     content \u001b[38;5;241m=\u001b[39m file\u001b[38;5;241m.\u001b[39mread()\n",
      "File \u001b[0;32m/opt/conda/lib/python3.10/site-packages/IPython/core/interactiveshell.py:282\u001b[0m, in \u001b[0;36m_modified_open\u001b[0;34m(file, *args, **kwargs)\u001b[0m\n\u001b[1;32m    276\u001b[0m     \u001b[38;5;28;01mraise\u001b[39;00m \u001b[38;5;167;01mValueError\u001b[39;00m(\n\u001b[1;32m    277\u001b[0m         \u001b[38;5;124mf\u001b[39m\u001b[38;5;124m\"\u001b[39m\u001b[38;5;124mIPython won\u001b[39m\u001b[38;5;124m'\u001b[39m\u001b[38;5;124mt let you open fd=\u001b[39m\u001b[38;5;132;01m{\u001b[39;00mfile\u001b[38;5;132;01m}\u001b[39;00m\u001b[38;5;124m by default \u001b[39m\u001b[38;5;124m\"\u001b[39m\n\u001b[1;32m    278\u001b[0m         \u001b[38;5;124m\"\u001b[39m\u001b[38;5;124mas it is likely to crash IPython. If you know what you are doing, \u001b[39m\u001b[38;5;124m\"\u001b[39m\n\u001b[1;32m    279\u001b[0m         \u001b[38;5;124m\"\u001b[39m\u001b[38;5;124myou can use builtins\u001b[39m\u001b[38;5;124m'\u001b[39m\u001b[38;5;124m open.\u001b[39m\u001b[38;5;124m\"\u001b[39m\n\u001b[1;32m    280\u001b[0m     )\n\u001b[0;32m--> 282\u001b[0m \u001b[38;5;28;01mreturn\u001b[39;00m \u001b[43mio_open\u001b[49m\u001b[43m(\u001b[49m\u001b[43mfile\u001b[49m\u001b[43m,\u001b[49m\u001b[43m \u001b[49m\u001b[38;5;241;43m*\u001b[39;49m\u001b[43margs\u001b[49m\u001b[43m,\u001b[49m\u001b[43m \u001b[49m\u001b[38;5;241;43m*\u001b[39;49m\u001b[38;5;241;43m*\u001b[39;49m\u001b[43mkwargs\u001b[49m\u001b[43m)\u001b[49m\n",
      "\u001b[0;31mFileNotFoundError\u001b[0m: [Errno 2] No such file or directory: 'example.txt'",
      "\nDuring handling of the above exception, another exception occurred:\n",
      "\u001b[0;31mNameError\u001b[0m                                 Traceback (most recent call last)",
      "Cell \u001b[0;32mIn[10], line 5\u001b[0m\n\u001b[1;32m      3\u001b[0m     content \u001b[38;5;241m=\u001b[39m file\u001b[38;5;241m.\u001b[39mread()\n\u001b[1;32m      4\u001b[0m \u001b[38;5;28;01mfinally\u001b[39;00m:\n\u001b[0;32m----> 5\u001b[0m     \u001b[43mfile\u001b[49m\u001b[38;5;241m.\u001b[39mclose()\n\u001b[1;32m      6\u001b[0m     \u001b[38;5;28mprint\u001b[39m(\u001b[38;5;124m\"\u001b[39m\u001b[38;5;124mFile closed, regardless of exceptions.\u001b[39m\u001b[38;5;124m\"\u001b[39m)\n",
      "\u001b[0;31mNameError\u001b[0m: name 'file' is not defined"
     ]
    }
   ],
   "source": [
    "try:\n",
    "    file = open(\"example.txt\",\"r\")\n",
    "    content = file.read()\n",
    "finally:\n",
    "    file.close()\n",
    "    print(\"File closed, regardless of exceptions.\")"
   ]
  },
  {
   "cell_type": "code",
   "execution_count": 11,
   "id": "91e83fc0-4e19-4af7-9e6c-eecb3cbbe6e9",
   "metadata": {},
   "outputs": [
    {
     "name": "stdout",
     "output_type": "stream",
     "text": [
      "Value must be non-negative.\n"
     ]
    }
   ],
   "source": [
    "def custom_function(value):\n",
    "    if value < 0:\n",
    "        raise ValueError(\"Value must be non-negative.\")\n",
    "    return value * 2\n",
    "try:\n",
    "    result = custom_function(-5)\n",
    "except ValueError as e:\n",
    "    print(e)"
   ]
  },
  {
   "cell_type": "code",
   "execution_count": null,
   "id": "296781dc-38f5-44ab-84a1-dcb799c6693f",
   "metadata": {},
   "outputs": [],
   "source": [
    "Q5. What are custom exceptins in python why do we need custom exception expalin with an example"
   ]
  },
  {
   "cell_type": "code",
   "execution_count": 13,
   "id": "2f6e30e3-2089-4803-9d59-b4bd94dbadf5",
   "metadata": {},
   "outputs": [
    {
     "name": "stdout",
     "output_type": "stream",
     "text": [
      "Error: Cannot divide by zero\n"
     ]
    }
   ],
   "source": [
    "class CustomError(Exception):\n",
    "    def __init__(self,message):\n",
    "        super().__init__(message)\n",
    "        \n",
    "def divide(a, b):\n",
    "    if b == 0:\n",
    "        raise CustomError(\"Cannot divide by zero\")\n",
    "    return a/b\n",
    "try:\n",
    "    result=divide(10,0)\n",
    "except CustomError as ce:\n",
    "    print(f\"Error: {ce}\")\n",
    "else:\n",
    "    print(f\"Result:{result}\")"
   ]
  },
  {
   "cell_type": "code",
   "execution_count": null,
   "id": "ad774686-3a3c-46e3-b145-f16e66392f97",
   "metadata": {},
   "outputs": [],
   "source": [
    "Q6.create a custom exception cla"
   ]
  },
  {
   "cell_type": "code",
   "execution_count": 17,
   "id": "1ac5b900-b31a-4b84-9c1a-34e952976ba0",
   "metadata": {},
   "outputs": [
    {
     "name": "stdin",
     "output_type": "stream",
     "text": [
      "Enter a non-negative number: 19\n"
     ]
    },
    {
     "name": "stdout",
     "output_type": "stream",
     "text": [
      "No exception occurred.\n"
     ]
    }
   ],
   "source": [
    "class CustomError(Exception):\n",
    "    def __init__(self,message=\"A custom error occurred\"):\n",
    "        super().__init__(message)\n",
    "def example_function(value):\n",
    "    if value < 0:\n",
    "        raise CustomError(\"Input value must be non-negative\")\n",
    "try:\n",
    "    user_input = int(input(\"Enter a non-negative number:\"))\n",
    "    example_function(user_input)\n",
    "    print(\"No exception occurred.\")\n",
    "except CustomError as ce:\n",
    "    print(f\"Custom error caught:{ce}\")\n",
    "except ValueError:\n",
    "    print(\"Invalid input.Please enter a valid number.\")\n",
    "    "
   ]
  },
  {
   "cell_type": "code",
   "execution_count": null,
   "id": "52268ba8-fbe3-4587-b176-581d66fbc58e",
   "metadata": {},
   "outputs": [],
   "source": []
  },
  {
   "cell_type": "code",
   "execution_count": null,
   "id": "15e6934d-feb8-46c6-ad1d-8b18748fa3f8",
   "metadata": {},
   "outputs": [],
   "source": []
  }
 ],
 "metadata": {
  "kernelspec": {
   "display_name": "Python 3 (ipykernel)",
   "language": "python",
   "name": "python3"
  },
  "language_info": {
   "codemirror_mode": {
    "name": "ipython",
    "version": 3
   },
   "file_extension": ".py",
   "mimetype": "text/x-python",
   "name": "python",
   "nbconvert_exporter": "python",
   "pygments_lexer": "ipython3",
   "version": "3.10.8"
  }
 },
 "nbformat": 4,
 "nbformat_minor": 5
}
